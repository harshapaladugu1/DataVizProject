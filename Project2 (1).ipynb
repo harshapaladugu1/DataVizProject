{
 "cells": [
  {
   "cell_type": "markdown",
   "id": "df968141",
   "metadata": {},
   "source": [
    "## Project 1 - Part 2"
   ]
  },
  {
   "cell_type": "code",
   "execution_count": 12,
   "id": "03a6a0a9",
   "metadata": {},
   "outputs": [],
   "source": [
    "import numpy as np\n",
    "import pandas as pd\n",
    "import matplotlib.pylab as plt\n",
    "import seaborn as sns\n",
    "from sklearn.preprocessing import OneHotEncoder, StandardScaler\n",
    "from sklearn.cluster import KMeans\n",
    "# from datetime import datetime\n",
    "# # from geopy.distance import geodesic\n",
    "# # from geopy.geocoders import Nominatim"
   ]
  },
  {
   "cell_type": "code",
   "execution_count": 13,
   "id": "6040e148",
   "metadata": {},
   "outputs": [
    {
     "data": {
      "text/html": [
       "<div>\n",
       "<style scoped>\n",
       "    .dataframe tbody tr th:only-of-type {\n",
       "        vertical-align: middle;\n",
       "    }\n",
       "\n",
       "    .dataframe tbody tr th {\n",
       "        vertical-align: top;\n",
       "    }\n",
       "\n",
       "    .dataframe thead th {\n",
       "        text-align: right;\n",
       "    }\n",
       "</style>\n",
       "<table border=\"1\" class=\"dataframe\">\n",
       "  <thead>\n",
       "    <tr style=\"text-align: right;\">\n",
       "      <th></th>\n",
       "      <th>step</th>\n",
       "      <th>type</th>\n",
       "      <th>amount</th>\n",
       "      <th>nameOrig</th>\n",
       "      <th>oldbalanceOrg</th>\n",
       "      <th>newbalanceOrig</th>\n",
       "      <th>nameDest</th>\n",
       "      <th>oldbalanceDest</th>\n",
       "      <th>newbalanceDest</th>\n",
       "      <th>isFraud</th>\n",
       "      <th>isFlaggedFraud</th>\n",
       "    </tr>\n",
       "  </thead>\n",
       "  <tbody>\n",
       "    <tr>\n",
       "      <th>0</th>\n",
       "      <td>1</td>\n",
       "      <td>PAYMENT</td>\n",
       "      <td>9839.64</td>\n",
       "      <td>C1231006815</td>\n",
       "      <td>170136.0</td>\n",
       "      <td>160296.36</td>\n",
       "      <td>M1979787155</td>\n",
       "      <td>0.0</td>\n",
       "      <td>0.0</td>\n",
       "      <td>0</td>\n",
       "      <td>0</td>\n",
       "    </tr>\n",
       "    <tr>\n",
       "      <th>1</th>\n",
       "      <td>1</td>\n",
       "      <td>PAYMENT</td>\n",
       "      <td>1864.28</td>\n",
       "      <td>C1666544295</td>\n",
       "      <td>21249.0</td>\n",
       "      <td>19384.72</td>\n",
       "      <td>M2044282225</td>\n",
       "      <td>0.0</td>\n",
       "      <td>0.0</td>\n",
       "      <td>0</td>\n",
       "      <td>0</td>\n",
       "    </tr>\n",
       "    <tr>\n",
       "      <th>2</th>\n",
       "      <td>1</td>\n",
       "      <td>TRANSFER</td>\n",
       "      <td>181.00</td>\n",
       "      <td>C1305486145</td>\n",
       "      <td>181.0</td>\n",
       "      <td>0.00</td>\n",
       "      <td>C553264065</td>\n",
       "      <td>0.0</td>\n",
       "      <td>0.0</td>\n",
       "      <td>1</td>\n",
       "      <td>0</td>\n",
       "    </tr>\n",
       "    <tr>\n",
       "      <th>3</th>\n",
       "      <td>1</td>\n",
       "      <td>CASH_OUT</td>\n",
       "      <td>181.00</td>\n",
       "      <td>C840083671</td>\n",
       "      <td>181.0</td>\n",
       "      <td>0.00</td>\n",
       "      <td>C38997010</td>\n",
       "      <td>21182.0</td>\n",
       "      <td>0.0</td>\n",
       "      <td>1</td>\n",
       "      <td>0</td>\n",
       "    </tr>\n",
       "    <tr>\n",
       "      <th>4</th>\n",
       "      <td>1</td>\n",
       "      <td>PAYMENT</td>\n",
       "      <td>11668.14</td>\n",
       "      <td>C2048537720</td>\n",
       "      <td>41554.0</td>\n",
       "      <td>29885.86</td>\n",
       "      <td>M1230701703</td>\n",
       "      <td>0.0</td>\n",
       "      <td>0.0</td>\n",
       "      <td>0</td>\n",
       "      <td>0</td>\n",
       "    </tr>\n",
       "  </tbody>\n",
       "</table>\n",
       "</div>"
      ],
      "text/plain": [
       "   step      type    amount     nameOrig  oldbalanceOrg  newbalanceOrig  \\\n",
       "0     1   PAYMENT   9839.64  C1231006815       170136.0       160296.36   \n",
       "1     1   PAYMENT   1864.28  C1666544295        21249.0        19384.72   \n",
       "2     1  TRANSFER    181.00  C1305486145          181.0            0.00   \n",
       "3     1  CASH_OUT    181.00   C840083671          181.0            0.00   \n",
       "4     1   PAYMENT  11668.14  C2048537720        41554.0        29885.86   \n",
       "\n",
       "      nameDest  oldbalanceDest  newbalanceDest  isFraud  isFlaggedFraud  \n",
       "0  M1979787155             0.0             0.0        0               0  \n",
       "1  M2044282225             0.0             0.0        0               0  \n",
       "2   C553264065             0.0             0.0        1               0  \n",
       "3    C38997010         21182.0             0.0        1               0  \n",
       "4  M1230701703             0.0             0.0        0               0  "
      ]
     },
     "execution_count": 13,
     "metadata": {},
     "output_type": "execute_result"
    }
   ],
   "source": [
    "df = pd.read_csv(\"PS_20174392719_1491204439457_log.csv\")\n",
    "df.head()"
   ]
  },
  {
   "cell_type": "markdown",
   "id": "df71f7ee",
   "metadata": {},
   "source": [
    "## Team Info \n",
    "\n",
    "Project Title: Credit Card Fraud Detection\n",
    "\n",
    "Team Name: FraudBusters\n",
    "\n",
    "Team Members: \n",
    "    Sanju Kanumuri (sanju), \n",
    "    Emanda Seifu (emandats),\n",
    "    Brianna Detter (bdetter),\n",
    "    Rahul Ramakrishnan (rramakrishnan106), &\n",
    "    Harsha Paladugu (harshanba34)"
   ]
  },
  {
   "cell_type": "code",
   "execution_count": 14,
   "id": "f5a0f325",
   "metadata": {},
   "outputs": [
    {
     "name": "stdout",
     "output_type": "stream",
     "text": [
      "<class 'pandas.core.frame.DataFrame'>\n",
      "RangeIndex: 6362620 entries, 0 to 6362619\n",
      "Data columns (total 11 columns):\n",
      " #   Column          Dtype  \n",
      "---  ------          -----  \n",
      " 0   step            int64  \n",
      " 1   type            object \n",
      " 2   amount          float64\n",
      " 3   nameOrig        object \n",
      " 4   oldbalanceOrg   float64\n",
      " 5   newbalanceOrig  float64\n",
      " 6   nameDest        object \n",
      " 7   oldbalanceDest  float64\n",
      " 8   newbalanceDest  float64\n",
      " 9   isFraud         int64  \n",
      " 10  isFlaggedFraud  int64  \n",
      "dtypes: float64(5), int64(3), object(3)\n",
      "memory usage: 534.0+ MB\n"
     ]
    }
   ],
   "source": [
    "df.shape\n",
    "df.info()\n",
    "# print(len(df[df['type'].unique()]))\n"
   ]
  },
  {
   "cell_type": "code",
   "execution_count": 15,
   "id": "5c9fa107",
   "metadata": {},
   "outputs": [
    {
     "data": {
      "image/png": "[encoded data removed]",
      "text/plain": [
       "<Figure size 640x480 with 1 Axes>"
      ]
     },
     "metadata": {},
     "output_type": "display_data"
    }
   ],
   "source": [
    "# Data to plot\n",
    "labels = 'Payment', 'Transfer', 'Cash Out', 'Debit' ,  \"Cash In\"\n",
    "sizes = [len(df[df['type']==\"PAYMENT\"]), len(df[df['type']==\"TRANSFER\"]), len(df[df['type']==\"CASH_OUT\"]),  len(df[df['type']==\"DEBIT\"]),  len(df[df['type']==\"CASH_IN\"])]\n",
    "colors = ['gold', 'yellowgreen', 'lightcoral', 'lightskyblue','silver']\n",
    "explode = (0.1, 0, 0, 0, 0)  # explode 1st slice\n",
    "\n",
    "# Plot\n",
    "plt.pie(sizes, explode=explode, labels=labels, colors=colors,\n",
    "autopct='%1.1f%%', shadow=True, startangle=140)\n",
    "\n",
    "plt.axis('equal')\n",
    "plt.show()"
   ]
  },
  {
   "cell_type": "markdown",
   "id": "50258106",
   "metadata": {},
   "source": [
    "## Project Introduction\n",
    "\n",
    "Project topic: Digital fraud has been one of the biggest illegal markets in recent times. From black market websites selling credit card information to fishing messages trying to access your personal information, financial fraud is a big issue that currently needs to be tackled. Our project will be looking over a Kaggle database that presents different features of online transactions. This training data has a column with a boolean value of 0 or 1 telling us whether or not the transaction is fraudulent. With this information, we plan on finding trends within the data that tell us what factors most contribute to fraud.\n",
    "\n",
    "\n",
    "Potential research questions you plan to address: \n",
    "What are indicators of credit card fraud attempts? \n",
    "What spending patterns that indicate fraud?  \n",
    "\n",
    "Description of potential source data: \n",
    "\"We present a synthetic dataset generated using the simulator called PaySim as an approach to such a problem. PaySim uses aggregated data from the private dataset to generate a synthetic dataset that resembles the normal operation of transactions and injects malicious behaviour to later evaluate the performance of fraud detection methods.\"\n",
    "https://www.kaggle.com/datasets/mlg-ulb/creditcardfraud\n",
    "https://www.kaggle.com/datasets/ealaxi/paysim1\n",
    "\n",
    "\n",
    "Using the information above, we plan on plotting the data, finding a regression line, finding patterns with fraudulant and nonfrrudaulant data"
   ]
  },
  {
   "cell_type": "markdown",
   "id": "b8f381de",
   "metadata": {},
   "source": [
    "QAC format that expands on your Part 1 report to add the following:\n",
    "Your initial findings, including annotated code, visuals, and analyses used to discover them.\n",
    "Include a procedural section that describes any major changes you made to Part 1 (e.g., new topic, new research questions), and a listing of anything you tried that didn't work out.\n",
    "Credit listing of what each team member contributed to which parts when completing Part 2.\n",
    "Any processed data files (in compressed form if large), preferably in CSV format.\n",
    "Any additional Jupyter Notebooks containing material you left out of your primary notebook."
   ]
  },
  {
   "cell_type": "markdown",
   "id": "552e16fc",
   "metadata": {},
   "source": [
    "## Question \n",
    "What factors contribute to a transcation being flagged as fraud? \n",
    "Moreover, how can we visualize the data to best understand the most important factors in detecting fraud?\n",
    "\n",
    "#### Motivation:\n",
    "\n",
    "As we have mentioned above, digital fraud has continued to increase over the past several years and can be cited as one of the ways that illegal markets/groups will target an individual's personal information. Based on the data from Kaggle, we want to find out what different aspects of online transactions that be linked to a transcation being flagged as fraud. \n",
    "\n",
    "#### Methods:\n",
    "\n",
    "One way we are planning to research this is using Multi-dimensional Scaling (MDS) with a normalized data set in order to get a better understanding for the relationship between different features and what transactions are marked as fraud. In addition to this, we also plan to use other tools such as pie charts, bar graphs, etc. to provide readers with several varying visuals of the information provided by the Kaggle database."
   ]
  },
  {
   "cell_type": "markdown",
   "id": "aa69515c",
   "metadata": {},
   "source": [
    "## Analysis \n",
    " use mds and do the regression plot \n",
    " \n",
    " #### Use homework 5 as a foundation for how to write up the analysis and conclusion! I based the Question section off of that"
   ]
  },
  {
   "cell_type": "markdown",
   "id": "40d01139",
   "metadata": {},
   "source": [
    "## Conclusion \n"
   ]
  },
  {
   "cell_type": "markdown",
   "id": "5180a32b",
   "metadata": {},
   "source": [
    "Add the compressed data file "
   ]
  },
  {
   "cell_type": "markdown",
   "id": "12d7c981",
   "metadata": {},
   "source": [
    "Team Member Contribution "
   ]
  }
 ],
 "metadata": {
  "kernelspec": {
   "display_name": "Python 3 (ipykernel)",
   "language": "python",
   "name": "python3"
  },
  "language_info": {
   "codemirror_mode": {
    "name": "ipython",
    "version": 3
   },
   "file_extension": ".py",
   "mimetype": "text/x-python",
   "name": "python",
   "nbconvert_exporter": "python",
   "pygments_lexer": "ipython3",
   "version": "3.11.5"
  }
 },
 "nbformat": 4,
 "nbformat_minor": 5
}
